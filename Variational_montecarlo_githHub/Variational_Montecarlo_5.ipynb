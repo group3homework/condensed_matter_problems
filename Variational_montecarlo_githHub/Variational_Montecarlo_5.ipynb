{
 "cells": [
  {
   "cell_type": "code",
   "execution_count": 1,
   "metadata": {},
   "outputs": [],
   "source": [
    "using SparseArrays , Statistics , PyPlot\n",
    "include(\"variational_montecarlo_3.jl\");"
   ]
  },
  {
   "cell_type": "markdown",
   "metadata": {},
   "source": [
    "$\\newcommand{\\braket}[2]{\\left\\langle{#1}\\middle|{#2}\\right\\rangle}$\n",
    "$\\newcommand{\\ket}[1]{\\left|{#1}\\right\\rangle}$\n",
    "$\\newcommand{\\bra}[1]{\\left\\langle{#1}\\right|}$\n",
    "$\\newcommand\\dag\\dagger$\n",
    "## Variational Montecarlo\n",
    "\n",
    "#### Given:\n",
    "- single particle in 1D chain with L sites\n",
    "- 1D chain in space mode representation, i.e. $\\ket{x_{i}}$=$\\ket{0,0,\\dots ,1, \\dots ,0}$  , $i=1 ,\\dots , L $\n",
    "- An Hamiltonian including only diagonal and hopping terms (tridiagonal)\n",
    "- A variational trial state $\\ket{\\Psi}$ such that $\\braket{x_{i}}{\\Psi} = e^{-g i}$ with $g$ variational parameter\n",
    "\n",
    "#### Find, using the Metroplis algorithm\n",
    "- Optimal $g$ (to have an optimal ground state)\n",
    "- average value of the position $ < O > $  ,$ O = \\sum_{i} ic_{i}^\\dag c_{i}$ \n"
   ]
  },
  {
   "cell_type": "markdown",
   "metadata": {},
   "source": [
    "### 0) Problem parameters"
   ]
  },
  {
   "cell_type": "code",
   "execution_count": 2,
   "metadata": {},
   "outputs": [],
   "source": [
    "L=30\n",
    "V=5.0\n",
    "t=1.0\n",
    "V_=V/t\n",
    "g=1.;"
   ]
  },
  {
   "cell_type": "markdown",
   "metadata": {},
   "source": [
    "### 1) Hamiltonian representation\n",
    " $$ H_{i,j} = \\braket{x_{i}}{H x_{j}} = -t \\left( \\delta_{i,j+1} + \\delta_{i,j-1} \\right)+2 V (j-1) \\delta_{i,j} \\quad i,j = 1, \\dots , L $$ \n",
    " Using adjacency matrices, we can represent it with the adjacency list :\n",
    " $$ (1,1),(1,2),(2,1),(2,2),(2,3) \\dots $$ so in general :\n",
    " $\\begin{cases}\n",
    "  \\& (i,i-1),(i,i),(i,i+1) \\quad \\text{for} \\quad i=2, \\dots , L-1  \\\\\n",
    "  \\& (i,i) , (i,i+1) \\quad \\text{for} \\quad i=1 \\\\\n",
    "  \\& (i,i-1) , (i,i) \\quad \\text{for} \\quad i = L \\\\\n",
    " \\end{cases} $"
   ]
  },
  {
   "cell_type": "code",
   "execution_count": 3,
   "metadata": {},
   "outputs": [
    {
     "data": {
      "text/plain": [
       "30×30 Array{Float64,2}:\n",
       "  0.0  -1.0   0.0   0.0   0.0   0.0  …    0.0    0.0    0.0    0.0    0.0\n",
       " -1.0  10.0  -1.0   0.0   0.0   0.0       0.0    0.0    0.0    0.0    0.0\n",
       "  0.0  -1.0  20.0  -1.0   0.0   0.0       0.0    0.0    0.0    0.0    0.0\n",
       "  0.0   0.0  -1.0  30.0  -1.0   0.0       0.0    0.0    0.0    0.0    0.0\n",
       "  0.0   0.0   0.0  -1.0  40.0  -1.0       0.0    0.0    0.0    0.0    0.0\n",
       "  0.0   0.0   0.0   0.0  -1.0  50.0  …    0.0    0.0    0.0    0.0    0.0\n",
       "  0.0   0.0   0.0   0.0   0.0  -1.0       0.0    0.0    0.0    0.0    0.0\n",
       "  0.0   0.0   0.0   0.0   0.0   0.0       0.0    0.0    0.0    0.0    0.0\n",
       "  0.0   0.0   0.0   0.0   0.0   0.0       0.0    0.0    0.0    0.0    0.0\n",
       "  0.0   0.0   0.0   0.0   0.0   0.0       0.0    0.0    0.0    0.0    0.0\n",
       "  0.0   0.0   0.0   0.0   0.0   0.0  …    0.0    0.0    0.0    0.0    0.0\n",
       "  0.0   0.0   0.0   0.0   0.0   0.0       0.0    0.0    0.0    0.0    0.0\n",
       "  0.0   0.0   0.0   0.0   0.0   0.0       0.0    0.0    0.0    0.0    0.0\n",
       "  ⋮                             ⋮    ⋱    ⋮                              \n",
       "  0.0   0.0   0.0   0.0   0.0   0.0       0.0    0.0    0.0    0.0    0.0\n",
       "  0.0   0.0   0.0   0.0   0.0   0.0       0.0    0.0    0.0    0.0    0.0\n",
       "  0.0   0.0   0.0   0.0   0.0   0.0  …    0.0    0.0    0.0    0.0    0.0\n",
       "  0.0   0.0   0.0   0.0   0.0   0.0       0.0    0.0    0.0    0.0    0.0\n",
       "  0.0   0.0   0.0   0.0   0.0   0.0       0.0    0.0    0.0    0.0    0.0\n",
       "  0.0   0.0   0.0   0.0   0.0   0.0       0.0    0.0    0.0    0.0    0.0\n",
       "  0.0   0.0   0.0   0.0   0.0   0.0      -1.0    0.0    0.0    0.0    0.0\n",
       "  0.0   0.0   0.0   0.0   0.0   0.0  …  250.0   -1.0    0.0    0.0    0.0\n",
       "  0.0   0.0   0.0   0.0   0.0   0.0      -1.0  260.0   -1.0    0.0    0.0\n",
       "  0.0   0.0   0.0   0.0   0.0   0.0       0.0   -1.0  270.0   -1.0    0.0\n",
       "  0.0   0.0   0.0   0.0   0.0   0.0       0.0    0.0   -1.0  280.0   -1.0\n",
       "  0.0   0.0   0.0   0.0   0.0   0.0       0.0    0.0    0.0   -1.0  290.0"
      ]
     },
     "execution_count": 3,
     "metadata": {},
     "output_type": "execute_result"
    }
   ],
   "source": [
    "n=2 #la block analysis lavora su bin che si dimezzano a ogni passo\n",
    "nmeas=n^13\n",
    "nhop=1 #numero di hopping fra una misura e la successiva\n",
    "output , chain=mcchain(L,t,V,g,nmeas=nmeas,nhop=nhop);\n",
    "chain.H"
   ]
  },
  {
   "cell_type": "markdown",
   "metadata": {},
   "source": [
    "## Analisi errori\n",
    "- Dividi in bin\n",
    "- calcola la media dell'energia per ogni bin\n",
    "- Calcola la deviazione standard per ogni bin\n",
    "- Dividi in bin più piccoli\n",
    "- Ripeti\n",
    "\n",
    "Fallo per N_ensamble prese dati. Media quindi le deviazioni standard a bin fissato fra le varie prese dati. Quando gli errori saturano, stimalo come tempo di decoerenza (i.e. ogni Lbin passi le misure sono indipendenti)"
   ]
  },
  {
   "cell_type": "code",
   "execution_count": 4,
   "metadata": {},
   "outputs": [],
   "source": [
    "lunghezze=L_bin_vect(n,nmeas); #[lunghezze dei bin. si dividono per n ad ogni passo, da un totale di nmeas misure]\n",
    "nhop=1\n",
    "N_ensamble=50 #simuliamo 50 prese dati\n",
    "\n",
    "\n",
    "#σ_dataset=zeros(N_ensamble,length(lunghezze)-1) #di dev.st.media=ERRORI\n",
    "x0=Int(L/2) #tutte le prese dati simiulano esperimenti identici, che partono dalla stessa configurazione iniziale\n",
    "sbin_dataset=zeros(N_ensamble,length(lunghezze)-1) #deviazioni standard della media. riga fissata=misura fissata. colonna fissata=Lbin fissato\n",
    "for i in 1:N_ensamble\n",
    "    #σ_vect=zeros(length(lunghezze)) #vettore di deviazioni standard della media AD OGNI PRESA DATI\n",
    "    #μ_vect=zeros(length(lunghezze))\n",
    "    #x0=rand([i for i in 1:L])\n",
    "    output , chain=mcchain(L,t,V,g,x0=x0,nmeas=nmeas,nhop=nhop);\n",
    "    for j in 1:length(lunghezze)-1\n",
    "        Lbin=lunghezze[j]\n",
    "        μ_e,σ_e=block_field(output,Lbin,:ene)\n",
    "        #σ_dataset[i,j]=σ_e\n",
    "        sbin_dataset[i,j]=σ_e\n",
    "    end\n",
    "end\n",
    "#σ_graph=[mean(σ_dataset[:,i]) for i in 1:length(lunghezze)-1] #dev st media alle diverse lunghezze, mediata sul dataset\n",
    "sbin_graph=[mean(sbin_dataset[:,i]) for i in 1:length(lunghezze)-1] #dev st alle diverse lunghezze, mediata sul dataset\n",
    "error=[std(sbin_dataset[:,i])/sqrt(N_ensamble) for i in 1:length(lunghezze)-1];"
   ]
  },
  {
   "cell_type": "code",
   "execution_count": 5,
   "metadata": {},
   "outputs": [
    {
     "data": {
      "image/png": "[encoded data removed]",
      "text/plain": [
       "Figure(PyObject <Figure size 640x480 with 1 Axes>)"
      ]
     },
     "metadata": {},
     "output_type": "display_data"
    },
    {
     "data": {
      "text/plain": [
       "PyObject Text(24.0, 0.5, 'variance of the mean')"
      ]
     },
     "execution_count": 5,
     "metadata": {},
     "output_type": "execute_result"
    }
   ],
   "source": [
    "errorbar(lunghezze[1:end-1],sbin_graph,error, fmt=\".\")\n",
    "plt.xscale(:log)\n",
    "plt.xlabel(\"bin length=number of hoppings\")\n",
    "plt.ylabel(\"variance of the mean\")"
   ]
  },
  {
   "cell_type": "markdown",
   "metadata": {},
   "source": [
    "Il sistema \"scorrela\" dopo $\\approx$ 800 passi , per cui simuleremo in sistema con nhop = 800 . N.B. non ricalcoliamo la lunghezza di correlazione per ogni g perchè la lunghezza di correlazione è una caratteristica del modello e non dipende da g. Verificato sotto per diversi valori di g"
   ]
  },
  {
   "cell_type": "code",
   "execution_count": 6,
   "metadata": {},
   "outputs": [],
   "source": [
    "nhop=800; #numero di hopping fra una misura e la successiva"
   ]
  },
  {
   "cell_type": "markdown",
   "metadata": {},
   "source": [
    "### ottimizziamo g valutando i vari valori dell'energia che si ottengono\n",
    "Di nuovo, facciamo evolvere N_ensamble catene, valutando per ciascuna l'energia a diverse g. L'energia media a g fissata è presa come  media( energie medie della singola catena)(g fissata!!) => abbiamo un dataset con :\n",
    "riga fissata = energia media del singolo esperimento a diverse g\n",
    "colonna fissata = energia media a g fissata dei diversi esperimenti\n",
    "\n",
    "Assumiamo come energia media finale a g fissata le medie delle colonne"
   ]
  },
  {
   "cell_type": "code",
   "execution_count": 7,
   "metadata": {},
   "outputs": [
    {
     "data": {
      "text/plain": [
       "20×21 Array{Float64,2}:\n",
       " -21.3833  -35.3472  -58.3439  -96.2849  …  -174299.0  -2.87371e5  -473794.0\n",
       " -21.3833  -35.3374  -58.3439  -96.2752     -174299.0  -2.87371e5  -473794.0\n",
       " -21.3931  -35.3277  -58.3439  -96.2752     -174299.0  -2.87371e5  -473794.0\n",
       " -21.3833  -35.3277  -58.3537  -96.2752     -174299.0  -2.87371e5  -473794.0\n",
       " -21.3833  -35.3472  -58.3439  -96.2752     -174299.0  -2.87371e5  -473794.0\n",
       " -21.3931  -35.3374  -58.3439  -96.2752  …  -174299.0  -2.87371e5  -473794.0\n",
       " -21.3833  -35.3472  -58.3439  -96.2654     -174299.0  -2.87371e5  -473794.0\n",
       " -21.3735  -35.3374  -58.3439  -96.2752     -174299.0  -2.87371e5  -473794.0\n",
       " -21.3833  -35.3472  -58.3439  -96.2752     -174299.0  -2.87371e5  -473794.0\n",
       " -21.3735  -35.3374  -58.3341  -96.2752     -174299.0  -2.87371e5  -473794.0\n",
       " -21.3931  -35.3277  -58.3341  -96.2849  …  -174299.0  -2.87371e5  -473794.0\n",
       " -21.3735  -35.3374  -58.3439  -96.2849     -174299.0  -2.87371e5  -473794.0\n",
       " -21.3833  -35.3374  -58.3439  -96.2752     -174299.0  -2.87371e5  -473794.0\n",
       " -21.3735  -35.3277  -58.3341  -96.2752     -174299.0  -2.87371e5  -473794.0\n",
       " -21.3833  -35.3472  -58.3439  -96.2849     -174299.0  -2.87371e5  -473794.0\n",
       " -21.3833  -35.3472  -58.3439  -96.2654  …  -174299.0  -2.87371e5  -473794.0\n",
       " -21.3833  -35.3374  -58.3439  -96.2752     -174299.0  -2.87371e5  -473794.0\n",
       " -21.3833  -35.3277  -58.3341  -96.2752     -174299.0  -2.87371e5  -473794.0\n",
       " -21.3735  -35.3472  -58.3439  -96.2849     -174299.0  -2.87371e5  -473794.0\n",
       " -21.3931  -35.3374  -58.3439  -96.2849     -174299.0  -2.87371e5  -473794.0"
      ]
     },
     "execution_count": 7,
     "metadata": {},
     "output_type": "execute_result"
    }
   ],
   "source": [
    "n=2 #la block analysis lavora su bin che si dimezzano a ogni passo\n",
    "nmeas=n^10\n",
    "N_ensamble=20\n",
    "g_val=[i for i in 10:0.5:20.0]\n",
    "energy_matr=zeros(N_ensamble,length(g_val))\n",
    "x0=Int(L/2)\n",
    "for i in 1:length(g_val)\n",
    "    g=g_val[i]\n",
    "    for j in 1:N_ensamble\n",
    "        output = mcchain(L,t,V,g,x0=x0,nmeas=nmeas,nhop=nhop)[1];\n",
    "        energy_matr[j,i]=mean(output.ene)\n",
    "    end\n",
    "end\n",
    "energy_matr"
   ]
  },
  {
   "cell_type": "code",
   "execution_count": 8,
   "metadata": {},
   "outputs": [
    {
     "data": {
      "image/png": "[encoded data removed]",
      "text/plain": [
       "Figure(PyObject <Figure size 640x480 with 1 Axes>)"
      ]
     },
     "metadata": {},
     "output_type": "display_data"
    },
    {
     "data": {
      "text/plain": [
       "PyObject Text(24.140625000000014, 0.5, 'E_m (fra N_ensamble catene)')"
      ]
     },
     "execution_count": 8,
     "metadata": {},
     "output_type": "execute_result"
    }
   ],
   "source": [
    "average_e=[mean(energy_matr[:,i]) for i in 1:length(g_val)];\n",
    "error = [std(energy_matr[:,i]) for i in 1:length(g_val)];\n",
    "errorbar(g_val,average_e,error,fmt=\".\")\n",
    "plt.xlabel(\"g\")\n",
    "plt.ylabel(\"E_m (fra N_ensamble catene)\")"
   ]
  },
  {
   "cell_type": "markdown",
   "metadata": {},
   "source": [
    " Teoricamente ci aspetteremmo $g \\rightarrow \\infty$ per V>0. Prendiamo $g = 20$ "
   ]
  },
  {
   "cell_type": "markdown",
   "metadata": {},
   "source": [
    "### Cambiamo i V/t\n",
    "se aumento V mi aspetto che la particella tenda ad andare subito a sinistra, quindi g ottimale può decrescere\n",
    "se aumento t mi aspetto più fluttuazioni, quindi g ottimale deve crescere per limitare la probabilità di un salto"
   ]
  },
  {
   "cell_type": "code",
   "execution_count": 9,
   "metadata": {},
   "outputs": [
    {
     "data": {
      "image/png": "[encoded data removed]",
      "text/plain": [
       "Figure(PyObject <Figure size 640x480 with 1 Axes>)"
      ]
     },
     "metadata": {},
     "output_type": "display_data"
    },
    {
     "data": {
      "text/plain": [
       "PyObject Text(24.140625000000014, 0.5, 'E_m (fra N_ensamble catene)')"
      ]
     },
     "execution_count": 9,
     "metadata": {},
     "output_type": "execute_result"
    }
   ],
   "source": [
    "L=30\n",
    "V=1000.0\n",
    "t=1.0\n",
    "V_=V/t\n",
    "\n",
    "nmeas=n^8\n",
    "N_ensamble=10\n",
    "g_val=[i for i in 10:0.5:20.0]\n",
    "energy_matr=zeros(N_ensamble,length(g_val))\n",
    "x0=Int(L/2)\n",
    "for i in 1:length(g_val)\n",
    "    g=g_val[i]\n",
    "    for j in 1:N_ensamble\n",
    "        output = mcchain(L,t,V,g,x0=x0,nmeas=nmeas,nhop=nhop)[1];\n",
    "        energy_matr[j,i]=mean(output.ene)\n",
    "    end\n",
    "end\n",
    "energy_matr\n",
    "average_e=[mean(energy_matr[:,i]) for i in 1:length(g_val)]\n",
    "error = [std(energy_matr[:,i]) for i in 1:length(g_val)]\n",
    "errorbar(g_val,average_e,error,fmt=\".\")\n",
    "plt.xlabel(\"g\")\n",
    "plt.ylabel(\"E_m (fra N_ensamble catene)\")"
   ]
  },
  {
   "cell_type": "markdown",
   "metadata": {},
   "source": [
    "Come aspettato, per V maggiore, a parità di g, l'energia media è minore, i.e. per V/t maggiore g può decrescere per avere un'enerfia di ground state ottimale uguale a un altro ground state con V/g maggiore"
   ]
  },
  {
   "cell_type": "code",
   "execution_count": 10,
   "metadata": {},
   "outputs": [
    {
     "data": {
      "image/png": "[encoded data removed]",
      "text/plain": [
       "Figure(PyObject <Figure size 640x480 with 1 Axes>)"
      ]
     },
     "metadata": {},
     "output_type": "display_data"
    },
    {
     "data": {
      "text/plain": [
       "PyObject Text(24.14062500000002, 0.5, 'E_m (fra N_ensamble catene)')"
      ]
     },
     "execution_count": 10,
     "metadata": {},
     "output_type": "execute_result"
    }
   ],
   "source": [
    "L=30\n",
    "V=1.0\n",
    "t=1000.0\n",
    "V_=V/t\n",
    "\n",
    "nmeas=n^8\n",
    "N_ensamble=20\n",
    "g_val=[i for i in -10:2.0:10.0]\n",
    "energy_matr=zeros(N_ensamble,length(g_val))\n",
    "x0=Int(L/2)\n",
    "for i in 1:length(g_val)\n",
    "    g=g_val[i]\n",
    "    for j in 1:N_ensamble\n",
    "        output = mcchain(L,t,V,g,x0=x0,nmeas=nmeas,nhop=nhop)[1];\n",
    "        energy_matr[j,i]=mean(output.ene)\n",
    "    end\n",
    "end\n",
    "energy_matr\n",
    "average_e=[mean(energy_matr[:,i]) for i in 1:length(g_val)]\n",
    "error = [std(energy_matr[:,i]) for i in 1:length(g_val)]\n",
    "errorbar(g_val,average_e,error,fmt=\".\")\n",
    "plt.xlabel(\"g\")\n",
    "plt.ylabel(\"E_m (fra N_ensamble catene)\")"
   ]
  },
  {
   "cell_type": "markdown",
   "metadata": {},
   "source": [
    "Per hopping preponderante ( $\\frac{V}{t}$ trascurabile ) l'hamiltoniana diventa $ \\approx $ simmetrica per hopping a destra e sinistra, per cui i \"ruoli\" di g><0 diventano \"simmetrici\""
   ]
  },
  {
   "cell_type": "markdown",
   "metadata": {},
   "source": [
    "### Posizione media per conf ottimale a V/t=5\n",
    "prendiamo g=20"
   ]
  },
  {
   "cell_type": "code",
   "execution_count": 11,
   "metadata": {},
   "outputs": [
    {
     "name": "stdout",
     "output_type": "stream",
     "text": [
      "Average pos = 1.020220947265625 +- 0.004526969112900199\n"
     ]
    }
   ],
   "source": [
    "L=30\n",
    "V=5.0\n",
    "t=1.0\n",
    "V_=V/t\n",
    "g=20.;\n",
    "n=2 #la block analysis lavora su bin che si dimezzano a ogni passo\n",
    "nmeas=n^13\n",
    "nhop=800 #numero di hopping fra una misura e la successiva\n",
    "output =mcchain(L,t,V,g,x0=15,nmeas=nmeas,nhop=nhop)[1];\n",
    "N_ensamble=20\n",
    "#g_val=[i for i in -10:2.0:10.0]\n",
    "nhop=1 #numero di hopping fra una misura e la successiva\n",
    "pos_v=zeros(N_ensamble)\n",
    "x0=Int(L/2)\n",
    "#for i in 1:length(g_val)\n",
    "    #g=g_val[i]\n",
    "    for j in 1:N_ensamble\n",
    "        output = mcchain(L,t,V,g,x0=x0,nmeas=nmeas,nhop=nhop)[1];\n",
    "        pos_v[j]=mean(output.pos)\n",
    "    end\n",
    "#end\n",
    "average_pos=mean(pos_v) \n",
    "error = std(pos_v)\n",
    "println(\"Average pos = \", average_pos, \" +- \" , error)"
   ]
  },
  {
   "cell_type": "markdown",
   "metadata": {},
   "source": [
    "Ovviamente significa che la posizione media è 1"
   ]
  },
  {
   "cell_type": "code",
   "execution_count": null,
   "metadata": {},
   "outputs": [],
   "source": []
  },
  {
   "cell_type": "code",
   "execution_count": null,
   "metadata": {},
   "outputs": [],
   "source": []
  },
  {
   "cell_type": "code",
   "execution_count": null,
   "metadata": {},
   "outputs": [],
   "source": []
  },
  {
   "cell_type": "code",
   "execution_count": null,
   "metadata": {},
   "outputs": [],
   "source": []
  }
 ],
 "metadata": {
  "kernelspec": {
   "display_name": "Julia 1.2.0",
   "language": "julia",
   "name": "julia-1.2"
  },
  "language_info": {
   "file_extension": ".jl",
   "mimetype": "application/julia",
   "name": "julia",
   "version": "1.2.0"
  }
 },
 "nbformat": 4,
 "nbformat_minor": 2
}
